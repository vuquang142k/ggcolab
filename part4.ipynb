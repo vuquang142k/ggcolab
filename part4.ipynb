{
  "nbformat": 4,
  "nbformat_minor": 0,
  "metadata": {
    "colab": {
      "provenance": [],
      "authorship_tag": "ABX9TyO30iXTWSSiuitcccJj8/i+",
      "include_colab_link": true
    },
    "kernelspec": {
      "name": "python3",
      "display_name": "Python 3"
    },
    "language_info": {
      "name": "python"
    }
  },
  "cells": [
    {
      "cell_type": "markdown",
      "metadata": {
        "id": "view-in-github",
        "colab_type": "text"
      },
      "source": [
        "<a href=\"https://colab.research.google.com/github/vuquang142k/ggcolab/blob/main/part4.ipynb\" target=\"_parent\"><img src=\"https://colab.research.google.com/assets/colab-badge.svg\" alt=\"Open In Colab\"/></a>"
      ]
    },
    {
      "cell_type": "code",
      "execution_count": null,
      "metadata": {
        "colab": {
          "base_uri": "https://localhost:8080/"
        },
        "id": "PLbHir8E--ol",
        "outputId": "1f5dace9-d657-4285-9df6-52e2e1fe8803"
      },
      "outputs": [
        {
          "output_type": "stream",
          "name": "stdout",
          "text": [
            "Requirement already satisfied: scikit-surprise in /usr/local/lib/python3.10/dist-packages (1.1.3)\n",
            "Requirement already satisfied: joblib>=1.0.0 in /usr/local/lib/python3.10/dist-packages (from scikit-surprise) (1.4.0)\n",
            "Requirement already satisfied: numpy>=1.17.3 in /usr/local/lib/python3.10/dist-packages (from scikit-surprise) (1.25.2)\n",
            "Requirement already satisfied: scipy>=1.3.2 in /usr/local/lib/python3.10/dist-packages (from scikit-surprise) (1.11.4)\n"
          ]
        }
      ],
      "source": [
        "pip install scikit-surprise"
      ]
    },
    {
      "cell_type": "code",
      "source": [
        "!python --version"
      ],
      "metadata": {
        "colab": {
          "base_uri": "https://localhost:8080/"
        },
        "id": "D0TLP0B8H2VQ",
        "outputId": "2bd71325-1c83-4ad7-8fb2-c9bb29cea66f"
      },
      "execution_count": null,
      "outputs": [
        {
          "output_type": "stream",
          "name": "stdout",
          "text": [
            "Python 3.10.12\n"
          ]
        }
      ]
    },
    {
      "cell_type": "code",
      "source": [
        "from surprise import KNNBasic\n",
        "from surprise import Dataset\n",
        "from surprise import Reader\n",
        "import os\n",
        "from surprise import NMF"
      ],
      "metadata": {
        "id": "FuifMtPt_-TX"
      },
      "execution_count": null,
      "outputs": []
    },
    {
      "cell_type": "code",
      "source": [
        "#------------------------load data from a file\n",
        "file_path = os.path.expanduser('restaurant_ratings.txt')\n",
        "reader = Reader(line_format='user item rating timestamp', sep='\\t')\n",
        "data = Dataset.load_from_file(file_path, reader=reader)\n",
        "print(data)"
      ],
      "metadata": {
        "colab": {
          "base_uri": "https://localhost:8080/"
        },
        "id": "PMaYx_3cATqz",
        "outputId": "d1561325-e11a-4799-9326-31e4d6f46016"
      },
      "execution_count": null,
      "outputs": [
        {
          "output_type": "stream",
          "name": "stdout",
          "text": [
            "<surprise.dataset.DatasetAutoFolds object at 0x7f53181d0190>\n"
          ]
        }
      ]
    },
    {
      "cell_type": "code",
      "source": [
        "from surprise import SVD\n",
        "from surprise.model_selection import cross_validate\n",
        "import os"
      ],
      "metadata": {
        "id": "7e8Z5TLRAfIr"
      },
      "execution_count": null,
      "outputs": []
    },
    {
      "cell_type": "code",
      "source": [
        "#########---------------SVD\n",
        "print('')\n",
        "print('---------------SVD result-------------')\n",
        "algo = SVD()\n",
        "perf = cross_validate(algo, data, measures=['RMSE', 'MAE', 'FCP'], cv = 5, verbose=True)"
      ],
      "metadata": {
        "colab": {
          "base_uri": "https://localhost:8080/"
        },
        "id": "5OE_Cd4jDTjm",
        "outputId": "57467a56-407e-4032-da6c-7f727822e267"
      },
      "execution_count": null,
      "outputs": [
        {
          "output_type": "stream",
          "name": "stdout",
          "text": [
            "\n",
            "---------------SVD result-------------\n",
            "Evaluating RMSE, MAE, FCP of algorithm SVD on 5 split(s).\n",
            "\n",
            "                  Fold 1  Fold 2  Fold 3  Fold 4  Fold 5  Mean    Std     \n",
            "RMSE (testset)    0.9351  0.9339  0.9312  0.9368  0.9389  0.9352  0.0026  \n",
            "MAE (testset)     0.7364  0.7368  0.7356  0.7404  0.7397  0.7378  0.0019  \n",
            "FCP (testset)     0.6956  0.6933  0.7006  0.7049  0.7009  0.6991  0.0041  \n",
            "Fit time          1.29    1.88    1.30    1.43    1.31    1.44    0.23    \n",
            "Test time         0.19    0.18    0.21    0.13    0.17    0.18    0.03    \n"
          ]
        }
      ]
    },
    {
      "cell_type": "code",
      "source": [
        "#########---------------PMF\n",
        "print('')\n",
        "print('---------------PMF result--------------')\n",
        "#data.split(n_folds=3)\n",
        "algo = SVD(biased=False)\n",
        "perf = cross_validate(algo, data, measures=['RMSE', 'MAE', 'FCP'], cv = 5, verbose=True)\n",
        "# perf = evaluate(algo, data, measures=['RMSE', 'MAE'])\n",
        "# print_perf(perf)"
      ],
      "metadata": {
        "colab": {
          "base_uri": "https://localhost:8080/"
        },
        "id": "_W_kv1OxGy6l",
        "outputId": "3922684a-3046-4c5c-c0bd-b040931b5b5a"
      },
      "execution_count": null,
      "outputs": [
        {
          "output_type": "stream",
          "name": "stdout",
          "text": [
            "\n",
            "---------------PMF result--------------\n",
            "Evaluating RMSE, MAE, FCP of algorithm SVD on 5 split(s).\n",
            "\n",
            "                  Fold 1  Fold 2  Fold 3  Fold 4  Fold 5  Mean    Std     \n",
            "RMSE (testset)    0.9537  0.9606  0.9471  0.9464  0.9435  0.9503  0.0062  \n",
            "MAE (testset)     0.7497  0.7547  0.7443  0.7465  0.7431  0.7477  0.0042  \n",
            "FCP (testset)     0.7080  0.7024  0.7104  0.7142  0.7090  0.7088  0.0038  \n",
            "Fit time          1.31    1.89    1.31    1.30    1.32    1.43    0.23    \n",
            "Test time         0.17    0.14    0.10    0.19    0.12    0.15    0.03    \n"
          ]
        }
      ]
    },
    {
      "cell_type": "code",
      "source": [
        "##########--------------NMF\n",
        "print('')\n",
        "print('----------------NMF result--------------')\n",
        "#data.split(n_folds=3)\n",
        "algo = KNNBasic(sim_options = {'user_based':True})\n",
        "perf = cross_validate(algo, data, measures=['RMSE', 'MAE', 'FCP'], cv = 5, verbose=True)\n",
        "# perf = evaluate(algo, data, measures=['RMSE', 'MAE'])\n",
        "# print_perf(perf)"
      ],
      "metadata": {
        "colab": {
          "base_uri": "https://localhost:8080/"
        },
        "id": "fofLvHIer4Vi",
        "outputId": "46035309-c085-4830-d074-1c8a8e3ed667"
      },
      "execution_count": null,
      "outputs": [
        {
          "output_type": "stream",
          "name": "stdout",
          "text": [
            "\n",
            "----------------NMF result--------------\n",
            "Computing the msd similarity matrix...\n",
            "Done computing similarity matrix.\n",
            "Computing the msd similarity matrix...\n",
            "Done computing similarity matrix.\n",
            "Computing the msd similarity matrix...\n",
            "Done computing similarity matrix.\n",
            "Computing the msd similarity matrix...\n",
            "Done computing similarity matrix.\n",
            "Computing the msd similarity matrix...\n",
            "Done computing similarity matrix.\n",
            "Evaluating RMSE, MAE, FCP of algorithm KNNBasic on 5 split(s).\n",
            "\n",
            "                  Fold 1  Fold 2  Fold 3  Fold 4  Fold 5  Mean    Std     \n",
            "RMSE (testset)    0.9704  0.9796  0.9819  0.9840  0.9787  0.9789  0.0047  \n",
            "MAE (testset)     0.7669  0.7711  0.7775  0.7791  0.7711  0.7731  0.0045  \n",
            "FCP (testset)     0.7049  0.7109  0.7074  0.7093  0.7096  0.7084  0.0021  \n",
            "Fit time          0.52    0.35    0.37    0.51    0.35    0.42    0.08    \n",
            "Test time         3.09    3.14    3.63    3.07    3.09    3.20    0.22    \n"
          ]
        }
      ]
    },
    {
      "cell_type": "code",
      "source": [
        "##########--------------User Based Collaborative Filtering algorithm\n",
        "print('')\n",
        "print('User Based Collaborative Filtering algorithm result')\n",
        "#data.split(n_folds=3)\n",
        "algo = KNNBasic(sim_options = {'user_based': False })\n",
        "perf = cross_validate(algo, data, measures=['RMSE', 'MAE', 'FCP'], cv = 5, verbose=True)\n",
        "# perf = evaluate(algo, data, measures=['RMSE', 'MAE'])\n",
        "# print_perf(perf)"
      ],
      "metadata": {
        "colab": {
          "base_uri": "https://localhost:8080/"
        },
        "id": "GAKXOUbCsBc8",
        "outputId": "089cec03-f559-4048-917c-cfa2dbd2e009"
      },
      "execution_count": null,
      "outputs": [
        {
          "output_type": "stream",
          "name": "stdout",
          "text": [
            "\n",
            "User Based Collaborative Filtering algorithm result\n",
            "Computing the msd similarity matrix...\n",
            "Done computing similarity matrix.\n",
            "Computing the msd similarity matrix...\n",
            "Done computing similarity matrix.\n",
            "Computing the msd similarity matrix...\n",
            "Done computing similarity matrix.\n",
            "Computing the msd similarity matrix...\n",
            "Done computing similarity matrix.\n",
            "Computing the msd similarity matrix...\n",
            "Done computing similarity matrix.\n",
            "Evaluating RMSE, MAE, FCP of algorithm KNNBasic on 5 split(s).\n",
            "\n",
            "                  Fold 1  Fold 2  Fold 3  Fold 4  Fold 5  Mean    Std     \n",
            "RMSE (testset)    0.9708  0.9745  0.9721  0.9708  0.9763  0.9729  0.0022  \n",
            "MAE (testset)     0.7654  0.7711  0.7696  0.7646  0.7725  0.7686  0.0031  \n",
            "FCP (testset)     0.6695  0.6689  0.6752  0.6663  0.6732  0.6706  0.0032  \n",
            "Fit time          0.66    0.50    0.51    0.51    0.49    0.53    0.06    \n",
            "Test time         3.81    3.88    4.59    3.55    3.59    3.88    0.37    \n"
          ]
        }
      ]
    },
    {
      "cell_type": "code",
      "source": [
        "##########--------------Item Based Collaborative Filtering algorithm\n",
        "print('')\n",
        "print('Item Based Collaborative Filtering algorithm result')\n",
        "#data.split(n_folds=3)\n",
        "algo = KNNBasic(sim_options = {'user_based': False})\n",
        "perf = cross_validate(algo, data, measures=['RMSE', 'MAE', 'FCP'], cv = 5, verbose=True)\n",
        "# perf = evaluate(algo, data, measures=['RMSE', 'MAE'])\n",
        "# print_perf(perf)\n"
      ],
      "metadata": {
        "colab": {
          "base_uri": "https://localhost:8080/"
        },
        "id": "63PjaAlAsMAO",
        "outputId": "7b02f97d-e6ff-4850-f540-a087719d21ce"
      },
      "execution_count": null,
      "outputs": [
        {
          "output_type": "stream",
          "name": "stdout",
          "text": [
            "\n",
            "Item Based Collaborative Filtering algorithm result\n",
            "Computing the msd similarity matrix...\n",
            "Done computing similarity matrix.\n",
            "Computing the msd similarity matrix...\n",
            "Done computing similarity matrix.\n",
            "Computing the msd similarity matrix...\n",
            "Done computing similarity matrix.\n",
            "Computing the msd similarity matrix...\n",
            "Done computing similarity matrix.\n",
            "Computing the msd similarity matrix...\n",
            "Done computing similarity matrix.\n",
            "Evaluating RMSE, MAE, FCP of algorithm KNNBasic on 5 split(s).\n",
            "\n",
            "                  Fold 1  Fold 2  Fold 3  Fold 4  Fold 5  Mean    Std     \n",
            "RMSE (testset)    0.9743  0.9754  0.9705  0.9777  0.9729  0.9741  0.0024  \n",
            "MAE (testset)     0.7716  0.7701  0.7652  0.7716  0.7687  0.7695  0.0024  \n",
            "FCP (testset)     0.6730  0.6633  0.6703  0.6745  0.6681  0.6699  0.0039  \n",
            "Fit time          0.54    0.52    0.75    0.52    0.52    0.57    0.09    \n",
            "Test time         3.63    3.86    3.67    3.68    4.63    3.90    0.38    \n"
          ]
        }
      ]
    },
    {
      "cell_type": "code",
      "source": [
        "##########--------MSD------User Based Collaborative Filtering algorithm\n",
        "print('')\n",
        "print('MSD----User Based Collaborative Filtering algorithm result')\n",
        "#data.split(n_folds=3)\n",
        "algo = KNNBasic(sim_options = {'name':'MSD','user_based': True})\n",
        "perf = cross_validate(algo, data, measures=['RMSE', 'MAE', 'FCP'], cv = 5, verbose=True)\n",
        "# perf = evaluate(algo, data, measures=['RMSE', 'MAE'])\n",
        "# print_perf(perf)"
      ],
      "metadata": {
        "colab": {
          "base_uri": "https://localhost:8080/"
        },
        "id": "20yuAECe7_et",
        "outputId": "3dc16c08-e851-4d2a-8732-7d66572f50c1"
      },
      "execution_count": null,
      "outputs": [
        {
          "output_type": "stream",
          "name": "stdout",
          "text": [
            "\n",
            "MSD----User Based Collaborative Filtering algorithm result\n",
            "Computing the msd similarity matrix...\n",
            "Done computing similarity matrix.\n",
            "Computing the msd similarity matrix...\n",
            "Done computing similarity matrix.\n",
            "Computing the msd similarity matrix...\n",
            "Done computing similarity matrix.\n",
            "Computing the msd similarity matrix...\n",
            "Done computing similarity matrix.\n",
            "Computing the msd similarity matrix...\n",
            "Done computing similarity matrix.\n",
            "Evaluating RMSE, MAE, FCP of algorithm KNNBasic on 5 split(s).\n",
            "\n",
            "                  Fold 1  Fold 2  Fold 3  Fold 4  Fold 5  Mean    Std     \n",
            "RMSE (testset)    0.9757  0.9794  0.9838  0.9770  0.9762  0.9785  0.0030  \n",
            "MAE (testset)     0.7699  0.7736  0.7778  0.7722  0.7697  0.7727  0.0030  \n",
            "FCP (testset)     0.7151  0.7073  0.7058  0.7105  0.7120  0.7102  0.0033  \n",
            "Fit time          0.35    0.37    0.36    0.37    0.39    0.37    0.01    \n",
            "Test time         4.05    3.15    3.08    4.04    3.21    3.51    0.44    \n"
          ]
        }
      ]
    },
    {
      "cell_type": "code",
      "source": [
        "##########--------cosin------User Based Collaborative Filtering algorithm\n",
        "print('')\n",
        "print('cosin----User Based Collaborative Filtering algorithm result')\n",
        "#data.split(n_folds=3)\n",
        "algo = KNNBasic(sim_options = {'name':'cosine','user_based': True})\n",
        "perf = cross_validate(algo, data, measures=['RMSE', 'MAE', 'FCP'], cv = 5, verbose=True)\n",
        "# perf = evaluate(algo, data, measures=['RMSE', 'MAE'])\n",
        "# print_perf(perf)"
      ],
      "metadata": {
        "colab": {
          "base_uri": "https://localhost:8080/"
        },
        "id": "EThb76Mc8LsT",
        "outputId": "b44025c5-3dba-4106-a989-26944ba62698"
      },
      "execution_count": null,
      "outputs": [
        {
          "output_type": "stream",
          "name": "stdout",
          "text": [
            "\n",
            "cosin----User Based Collaborative Filtering algorithm result\n",
            "Computing the cosine similarity matrix...\n",
            "Done computing similarity matrix.\n",
            "Computing the cosine similarity matrix...\n",
            "Done computing similarity matrix.\n",
            "Computing the cosine similarity matrix...\n",
            "Done computing similarity matrix.\n",
            "Computing the cosine similarity matrix...\n",
            "Done computing similarity matrix.\n",
            "Computing the cosine similarity matrix...\n",
            "Done computing similarity matrix.\n",
            "Evaluating RMSE, MAE, FCP of algorithm KNNBasic on 5 split(s).\n",
            "\n",
            "                  Fold 1  Fold 2  Fold 3  Fold 4  Fold 5  Mean    Std     \n",
            "RMSE (testset)    1.0193  1.0147  1.0174  1.0093  1.0236  1.0169  0.0048  \n",
            "MAE (testset)     0.8056  0.8016  0.8045  0.7976  0.8106  0.8040  0.0043  \n",
            "FCP (testset)     0.7040  0.7115  0.7053  0.7042  0.7057  0.7061  0.0028  \n",
            "Fit time          0.68    0.54    0.55    0.82    0.55    0.63    0.11    \n",
            "Test time         4.37    3.09    3.37    3.27    3.06    3.43    0.48    \n"
          ]
        }
      ]
    },
    {
      "cell_type": "code",
      "source": [
        "##########--------person------User Based Collaborative Filtering algorithm\n",
        "print('')\n",
        "print('Person sim----User Based Collaborative Filtering algorithm result')\n",
        "#data.split(n_folds=3)\n",
        "algo = KNNBasic(sim_options = {'name':'pearson','user_based': True})\n",
        "perf = cross_validate(algo, data, measures=['RMSE', 'MAE', 'FCP'], cv = 5, verbose=True)\n",
        "# perf = evaluate(algo, data, measures=['RMSE', 'MAE'])\n",
        "# print_perf(perf)"
      ],
      "metadata": {
        "colab": {
          "base_uri": "https://localhost:8080/"
        },
        "id": "xVm9wrIe8Ufv",
        "outputId": "6bc1f224-cd7e-43d4-8fd1-3ad6d5faa6c1"
      },
      "execution_count": null,
      "outputs": [
        {
          "output_type": "stream",
          "name": "stdout",
          "text": [
            "\n",
            "Person sim----User Based Collaborative Filtering algorithm result\n",
            "Computing the pearson similarity matrix...\n",
            "Done computing similarity matrix.\n",
            "Computing the pearson similarity matrix...\n",
            "Done computing similarity matrix.\n",
            "Computing the pearson similarity matrix...\n",
            "Done computing similarity matrix.\n",
            "Computing the pearson similarity matrix...\n",
            "Done computing similarity matrix.\n",
            "Computing the pearson similarity matrix...\n",
            "Done computing similarity matrix.\n",
            "Evaluating RMSE, MAE, FCP of algorithm KNNBasic on 5 split(s).\n",
            "\n",
            "                  Fold 1  Fold 2  Fold 3  Fold 4  Fold 5  Mean    Std     \n",
            "RMSE (testset)    1.0022  1.0125  1.0143  1.0018  1.0260  1.0114  0.0089  \n",
            "MAE (testset)     0.7972  0.8040  0.8049  0.7968  0.8137  0.8033  0.0062  \n",
            "FCP (testset)     0.7180  0.7069  0.7120  0.7106  0.7081  0.7111  0.0039  \n",
            "Fit time          0.71    0.69    0.69    0.65    0.98    0.74    0.12    \n",
            "Test time         3.46    4.13    3.05    3.16    3.74    3.51    0.40    \n"
          ]
        }
      ]
    },
    {
      "cell_type": "code",
      "source": [
        "##########--------MSD------User Based Collaborative Filtering algorithm\n",
        "print('')\n",
        "print('10--Neighboors--User Based Collaborative Filtering algorithm result')\n",
        "#data.split(n_folds=3)\n",
        "algo = KNNBasic(k=10, sim_options = {'name':'MSD', 'user_based':True })\n",
        "perf = cross_validate(algo, data, measures=['RMSE', 'MAE', 'FCP'], cv = 5, verbose=True)\n",
        "# perf = evaluate(algo, data, measures=['RMSE'])\n",
        "# print_perf(perf)"
      ],
      "metadata": {
        "colab": {
          "base_uri": "https://localhost:8080/"
        },
        "id": "jaLSmGBh8lsx",
        "outputId": "bb88993c-3760-43ff-f3ac-85339225f2bc"
      },
      "execution_count": null,
      "outputs": [
        {
          "output_type": "stream",
          "name": "stdout",
          "text": [
            "\n",
            "10--Neighboors--User Based Collaborative Filtering algorithm result\n",
            "Computing the msd similarity matrix...\n",
            "Done computing similarity matrix.\n",
            "Computing the msd similarity matrix...\n",
            "Done computing similarity matrix.\n",
            "Computing the msd similarity matrix...\n",
            "Done computing similarity matrix.\n",
            "Computing the msd similarity matrix...\n",
            "Done computing similarity matrix.\n",
            "Computing the msd similarity matrix...\n",
            "Done computing similarity matrix.\n",
            "Evaluating RMSE, MAE, FCP of algorithm KNNBasic on 5 split(s).\n",
            "\n",
            "                  Fold 1  Fold 2  Fold 3  Fold 4  Fold 5  Mean    Std     \n",
            "RMSE (testset)    0.9808  0.9997  0.9918  0.9817  0.9882  0.9884  0.0070  \n",
            "MAE (testset)     0.7724  0.7875  0.7820  0.7739  0.7764  0.7784  0.0056  \n",
            "FCP (testset)     0.6931  0.6948  0.6948  0.6920  0.7000  0.6949  0.0028  \n",
            "Fit time          0.37    0.66    0.35    0.38    0.33    0.42    0.12    \n",
            "Test time         2.69    2.66    3.11    2.35    2.40    2.64    0.27    \n"
          ]
        }
      ]
    },
    {
      "cell_type": "code",
      "source": [
        "##########--------cosin------User Based Collaborative Filtering algorithm\n",
        "print('')\n",
        "print('10---Neighboors---Item Based Collaborative Filtering algorithm result')\n",
        "#data.split(n_folds=3)\n",
        "algo = KNNBasic(k=10, sim_options = {'name':'MSD', 'user_based':False })\n",
        "perf = cross_validate(algo, data, measures=['RMSE', 'MAE', 'FCP'], cv = 5, verbose=True)\n",
        "# perf = evaluate(algo, data, measures=['RMSE'])\n",
        "# print_perf(perf)"
      ],
      "metadata": {
        "colab": {
          "base_uri": "https://localhost:8080/"
        },
        "id": "kHdJ0xCx8sjV",
        "outputId": "46c74e8c-3083-4fcf-ccc4-356333d63481"
      },
      "execution_count": null,
      "outputs": [
        {
          "output_type": "stream",
          "name": "stdout",
          "text": [
            "\n",
            "10---Neighboors---Item Based Collaborative Filtering algorithm result\n",
            "Computing the msd similarity matrix...\n",
            "Done computing similarity matrix.\n",
            "Computing the msd similarity matrix...\n",
            "Done computing similarity matrix.\n",
            "Computing the msd similarity matrix...\n",
            "Done computing similarity matrix.\n",
            "Computing the msd similarity matrix...\n",
            "Done computing similarity matrix.\n",
            "Computing the msd similarity matrix...\n",
            "Done computing similarity matrix.\n",
            "Evaluating RMSE, MAE, FCP of algorithm KNNBasic on 5 split(s).\n",
            "\n",
            "                  Fold 1  Fold 2  Fold 3  Fold 4  Fold 5  Mean    Std     \n",
            "RMSE (testset)    1.0122  1.0108  1.0101  1.0093  1.0258  1.0136  0.0061  \n",
            "MAE (testset)     0.7979  0.7947  0.7994  0.7955  0.8064  0.7988  0.0041  \n",
            "FCP (testset)     0.6008  0.6026  0.6059  0.5982  0.5932  0.6002  0.0043  \n",
            "Fit time          0.55    0.54    0.51    0.50    0.53    0.53    0.02    \n",
            "Test time         2.77    3.70    2.75    2.74    3.70    3.13    0.46    \n"
          ]
        }
      ]
    },
    {
      "cell_type": "code",
      "source": [
        "##########--------MSD------User Based Collaborative Filtering algorithm\n",
        "print('')\n",
        "print('15--Neighboors--User Based Collaborative Filtering algorithm result')\n",
        "#data.split(n_folds=3)\n",
        "algo = KNNBasic(k=10, sim_options = {'name':'MSD', 'user_based':True })\n",
        "perf = cross_validate(algo, data, measures=['RMSE', 'MAE', 'FCP'], cv = 5, verbose=True)\n",
        "# perf = evaluate(algo, data, measures=['RMSE'])\n",
        "# print_perf(perf)"
      ],
      "metadata": {
        "colab": {
          "base_uri": "https://localhost:8080/"
        },
        "id": "1b2rDiUZ80DJ",
        "outputId": "7e534e55-cd10-4db7-af95-e6c10e25ca14"
      },
      "execution_count": null,
      "outputs": [
        {
          "output_type": "stream",
          "name": "stdout",
          "text": [
            "\n",
            "15--Neighboors--User Based Collaborative Filtering algorithm result\n",
            "Computing the msd similarity matrix...\n",
            "Done computing similarity matrix.\n",
            "Computing the msd similarity matrix...\n",
            "Done computing similarity matrix.\n",
            "Computing the msd similarity matrix...\n",
            "Done computing similarity matrix.\n",
            "Computing the msd similarity matrix...\n",
            "Done computing similarity matrix.\n",
            "Computing the msd similarity matrix...\n",
            "Done computing similarity matrix.\n",
            "Evaluating RMSE, MAE, FCP of algorithm KNNBasic on 5 split(s).\n",
            "\n",
            "                  Fold 1  Fold 2  Fold 3  Fold 4  Fold 5  Mean    Std     \n",
            "RMSE (testset)    0.9871  0.9895  0.9937  0.9868  0.9854  0.9885  0.0029  \n",
            "MAE (testset)     0.7774  0.7823  0.7832  0.7723  0.7781  0.7786  0.0039  \n",
            "FCP (testset)     0.6970  0.6917  0.6905  0.6965  0.6998  0.6951  0.0035  \n",
            "Fit time          0.35    0.37    0.39    0.38    0.37    0.37    0.01    \n",
            "Test time         2.43    2.52    3.36    2.43    2.35    2.62    0.37    \n"
          ]
        }
      ]
    },
    {
      "cell_type": "code",
      "source": [
        "##########--------cosin------User Based Collaborative Filtering algorithm\n",
        "print('')\n",
        "print('15---Neighboors---Item Based Collaborative Filtering algorithm result')\n",
        "#data.split(n_folds=3)\n",
        "algo = KNNBasic(k=10, sim_options = {'name':'MSD', 'user_based':False })\n",
        "perf = cross_validate(algo, data, measures=['RMSE', 'MAE', 'FCP'], cv = 5, verbose=True)\n",
        "# perf = evaluate(algo, data, measures=['RMSE'])\n",
        "# print_perf(perf)"
      ],
      "metadata": {
        "colab": {
          "base_uri": "https://localhost:8080/"
        },
        "id": "dQP6lBJf87mY",
        "outputId": "12cbb163-fb65-405d-f11b-226dd03f3782"
      },
      "execution_count": null,
      "outputs": [
        {
          "output_type": "stream",
          "name": "stdout",
          "text": [
            "\n",
            "15---Neighboors---Item Based Collaborative Filtering algorithm result\n",
            "Computing the msd similarity matrix...\n",
            "Done computing similarity matrix.\n",
            "Computing the msd similarity matrix...\n",
            "Done computing similarity matrix.\n",
            "Computing the msd similarity matrix...\n",
            "Done computing similarity matrix.\n",
            "Computing the msd similarity matrix...\n",
            "Done computing similarity matrix.\n",
            "Computing the msd similarity matrix...\n",
            "Done computing similarity matrix.\n",
            "Evaluating RMSE, MAE, FCP of algorithm KNNBasic on 5 split(s).\n",
            "\n",
            "                  Fold 1  Fold 2  Fold 3  Fold 4  Fold 5  Mean    Std     \n",
            "RMSE (testset)    1.0143  1.0104  1.0128  1.0174  1.0094  1.0129  0.0028  \n",
            "MAE (testset)     0.8011  0.7960  0.7990  0.8028  0.7933  0.7985  0.0034  \n",
            "FCP (testset)     0.6055  0.6080  0.5997  0.6003  0.6136  0.6054  0.0051  \n",
            "Fit time          0.51    0.53    0.67    0.55    0.53    0.56    0.06    \n",
            "Test time         2.75    2.84    3.49    2.75    2.80    2.92    0.29    \n"
          ]
        }
      ]
    },
    {
      "cell_type": "code",
      "source": [
        "##########--------MSD------User Based Collaborative Filtering algorithm\n",
        "print('')\n",
        "print('25--Neighboors--User Based Collaborative Filtering algorithm result')\n",
        "#data.split(n_folds=3)\n",
        "algo = KNNBasic(k=10, sim_options = {'name':'MSD', 'user_based':True })\n",
        "perf = cross_validate(algo, data, measures=['RMSE', 'MAE', 'FCP'], cv = 5, verbose=True)\n",
        "# perf = evaluate(algo, data, measures=['RMSE'])\n",
        "# print_perf(perf)"
      ],
      "metadata": {
        "colab": {
          "base_uri": "https://localhost:8080/"
        },
        "id": "qyxCwlBE9DU4",
        "outputId": "64f99233-cfaf-4ba7-878b-d04d4bc680ce"
      },
      "execution_count": null,
      "outputs": [
        {
          "output_type": "stream",
          "name": "stdout",
          "text": [
            "\n",
            "25--Neighboors--User Based Collaborative Filtering algorithm result\n",
            "Computing the msd similarity matrix...\n",
            "Done computing similarity matrix.\n",
            "Computing the msd similarity matrix...\n",
            "Done computing similarity matrix.\n",
            "Computing the msd similarity matrix...\n",
            "Done computing similarity matrix.\n",
            "Computing the msd similarity matrix...\n",
            "Done computing similarity matrix.\n",
            "Computing the msd similarity matrix...\n",
            "Done computing similarity matrix.\n",
            "Evaluating RMSE, MAE, FCP of algorithm KNNBasic on 5 split(s).\n",
            "\n",
            "                  Fold 1  Fold 2  Fold 3  Fold 4  Fold 5  Mean    Std     \n",
            "RMSE (testset)    0.9890  0.9811  0.9909  0.9952  0.9870  0.9887  0.0046  \n",
            "MAE (testset)     0.7785  0.7709  0.7825  0.7846  0.7780  0.7789  0.0047  \n",
            "FCP (testset)     0.6928  0.7015  0.6869  0.6940  0.6975  0.6945  0.0049  \n",
            "Fit time          0.52    0.35    0.38    0.35    0.35    0.39    0.06    \n",
            "Test time         2.54    2.40    2.45    3.21    2.35    2.59    0.32    \n"
          ]
        }
      ]
    },
    {
      "cell_type": "code",
      "source": [
        "##########--------cosin------User Based Collaborative Filtering algorithm\n",
        "print('')\n",
        "print('25---Neighboors---Item Based Collaborative Filtering algorithm result')\n",
        "#data.split(n_folds=3)\n",
        "algo = KNNBasic(k=10, sim_options = {'name':'MSD', 'user_based':False })\n",
        "perf = cross_validate(algo, data, measures=['RMSE', 'MAE', 'FCP'], cv = 5, verbose=True)\n",
        "# perf = evaluate(algo, data, measures=['RMSE'])\n",
        "# print_perf(perf)"
      ],
      "metadata": {
        "colab": {
          "base_uri": "https://localhost:8080/"
        },
        "id": "KSg82W279Int",
        "outputId": "890911f6-018f-4327-d7c2-1b915f6f41c0"
      },
      "execution_count": null,
      "outputs": [
        {
          "output_type": "stream",
          "name": "stdout",
          "text": [
            "\n",
            "25---Neighboors---Item Based Collaborative Filtering algorithm result\n",
            "Computing the msd similarity matrix...\n",
            "Done computing similarity matrix.\n",
            "Computing the msd similarity matrix...\n",
            "Done computing similarity matrix.\n",
            "Computing the msd similarity matrix...\n",
            "Done computing similarity matrix.\n",
            "Computing the msd similarity matrix...\n",
            "Done computing similarity matrix.\n",
            "Computing the msd similarity matrix...\n",
            "Done computing similarity matrix.\n",
            "Evaluating RMSE, MAE, FCP of algorithm KNNBasic on 5 split(s).\n",
            "\n",
            "                  Fold 1  Fold 2  Fold 3  Fold 4  Fold 5  Mean    Std     \n",
            "RMSE (testset)    1.0229  1.0076  1.0158  1.0129  1.0118  1.0142  0.0051  \n",
            "MAE (testset)     0.8066  0.7954  0.8033  0.7979  0.7957  0.7998  0.0044  \n",
            "FCP (testset)     0.5997  0.6084  0.5920  0.6019  0.6071  0.6018  0.0059  \n",
            "Fit time          0.50    0.68    0.52    0.51    0.69    0.58    0.09    \n",
            "Test time         3.30    2.71    2.78    2.87    3.07    2.95    0.21    \n"
          ]
        }
      ]
    },
    {
      "cell_type": "code",
      "source": [
        "##########--------MSD------User Based Collaborative Filtering algorithm\n",
        "print('')\n",
        "print('30--Neighboors--User Based Collaborative Filtering algorithm result')\n",
        "#data.split(n_folds=3)\n",
        "algo = KNNBasic(k=10, sim_options = {'name':'MSD', 'user_based':True })\n",
        "perf = cross_validate(algo, data, measures=['RMSE', 'MAE', 'FCP'], cv = 5, verbose=True)\n",
        "# perf = evaluate(algo, data, measures=['RMSE'])\n",
        "# print_perf(perf)"
      ],
      "metadata": {
        "colab": {
          "base_uri": "https://localhost:8080/"
        },
        "id": "OXFMr6Mo9Psi",
        "outputId": "b872dba3-aba4-49ce-d0b3-7943ecc87453"
      },
      "execution_count": null,
      "outputs": [
        {
          "output_type": "stream",
          "name": "stdout",
          "text": [
            "\n",
            "30--Neighboors--User Based Collaborative Filtering algorithm result\n",
            "Computing the msd similarity matrix...\n",
            "Done computing similarity matrix.\n",
            "Computing the msd similarity matrix...\n",
            "Done computing similarity matrix.\n",
            "Computing the msd similarity matrix...\n",
            "Done computing similarity matrix.\n",
            "Computing the msd similarity matrix...\n",
            "Done computing similarity matrix.\n",
            "Computing the msd similarity matrix...\n",
            "Done computing similarity matrix.\n",
            "Evaluating RMSE, MAE, FCP of algorithm KNNBasic on 5 split(s).\n",
            "\n",
            "                  Fold 1  Fold 2  Fold 3  Fold 4  Fold 5  Mean    Std     \n",
            "RMSE (testset)    0.9863  0.9883  0.9976  0.9886  0.9836  0.9889  0.0047  \n",
            "MAE (testset)     0.7764  0.7779  0.7858  0.7784  0.7769  0.7791  0.0034  \n",
            "FCP (testset)     0.7052  0.6954  0.6880  0.6938  0.6920  0.6949  0.0057  \n",
            "Fit time          0.39    0.38    0.38    0.38    0.38    0.38    0.00    \n",
            "Test time         2.38    2.44    3.32    2.38    2.41    2.59    0.37    \n"
          ]
        }
      ]
    },
    {
      "cell_type": "code",
      "source": [
        "##########--------cosin------User Based Collaborative Filtering algorithm\n",
        "print('')\n",
        "print('30---Neighboors---Item Based Collaborative Filtering algorithm result')\n",
        "#data.split(n_folds=3)\n",
        "algo = KNNBasic(k=10, sim_options = {'name':'MSD', 'user_based':False })\n",
        "perf = cross_validate(algo, data, measures=['RMSE', 'MAE', 'FCP'], cv = 5, verbose=True)\n",
        "# perf = evaluate(algo, data, measures=['RMSE'])\n",
        "# print_perf(perf)"
      ],
      "metadata": {
        "colab": {
          "base_uri": "https://localhost:8080/"
        },
        "id": "RAkfAAhN9V4k",
        "outputId": "d2308c46-a3cc-41c1-a180-602f28cd0a05"
      },
      "execution_count": null,
      "outputs": [
        {
          "output_type": "stream",
          "name": "stdout",
          "text": [
            "\n",
            "30---Neighboors---Item Based Collaborative Filtering algorithm result\n",
            "Computing the msd similarity matrix...\n",
            "Done computing similarity matrix.\n",
            "Computing the msd similarity matrix...\n",
            "Done computing similarity matrix.\n",
            "Computing the msd similarity matrix...\n",
            "Done computing similarity matrix.\n",
            "Computing the msd similarity matrix...\n",
            "Done computing similarity matrix.\n",
            "Computing the msd similarity matrix...\n",
            "Done computing similarity matrix.\n",
            "Evaluating RMSE, MAE, FCP of algorithm KNNBasic on 5 split(s).\n",
            "\n",
            "                  Fold 1  Fold 2  Fold 3  Fold 4  Fold 5  Mean    Std     \n",
            "RMSE (testset)    1.0130  1.0072  1.0087  1.0174  1.0197  1.0132  0.0048  \n",
            "MAE (testset)     0.7976  0.7969  0.7960  0.7998  0.8053  0.7991  0.0033  \n",
            "FCP (testset)     0.5984  0.6078  0.6038  0.6031  0.5944  0.6015  0.0046  \n",
            "Fit time          0.53    0.56    0.52    0.58    0.60    0.56    0.03    \n",
            "Test time         2.73    2.79    3.82    2.89    2.76    3.00    0.42    \n"
          ]
        }
      ]
    }
  ]
}